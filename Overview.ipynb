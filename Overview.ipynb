{
 "cells": [
  {
   "cell_type": "code",
   "execution_count": 2,
   "metadata": {},
   "outputs": [],
   "source": [
    "fd = open('inventory.txt', 'w')\n",
    "fd.close()"
   ]
  },
  {
   "cell_type": "markdown",
   "metadata": {},
   "source": [
    "## Product Details"
   ]
  },
  {
   "cell_type": "markdown",
   "metadata": {},
   "source": [
    "1. Product ID\n",
    "2. Name of Product\n",
    "3. Price of Product\n",
    "4. Quantity"
   ]
  },
  {
   "cell_type": "code",
   "execution_count": 3,
   "metadata": {},
   "outputs": [],
   "source": [
    "fd = open('inventory.txt' , 'r')\n",
    "txt = fd.read()\n",
    "\n",
    "fd.close()"
   ]
  },
  {
   "cell_type": "code",
   "execution_count": 4,
   "metadata": {},
   "outputs": [
    {
     "name": "stdout",
     "output_type": "stream",
     "text": [
      "1,5 Star,5,100\n",
      "2,Milky Bar,5,100\n",
      "3,Cake,300,5\n",
      "4,Candy,1,200\n"
     ]
    }
   ],
   "source": [
    "print(txt)"
   ]
  },
  {
   "cell_type": "code",
   "execution_count": 5,
   "metadata": {},
   "outputs": [
    {
     "data": {
      "text/plain": [
       "'1,5 Star,5,100\\n2,Milky Bar,5,100\\n3,Cake,300,5\\n4,Candy,1,200'"
      ]
     },
     "execution_count": 5,
     "metadata": {},
     "output_type": "execute_result"
    }
   ],
   "source": [
    "txt"
   ]
  },
  {
   "cell_type": "code",
   "execution_count": 6,
   "metadata": {},
   "outputs": [
    {
     "name": "stdout",
     "output_type": "stream",
     "text": [
      "['1,5 Star,5,100', '2,Milky Bar,5,100', '3,Cake,300,5', '4,Candy,1,200']\n"
     ]
    }
   ],
   "source": [
    "items = txt.split('\\n')\n",
    "print(items)"
   ]
  },
  {
   "cell_type": "code",
   "execution_count": 7,
   "metadata": {},
   "outputs": [
    {
     "data": {
      "text/plain": [
       "4"
      ]
     },
     "execution_count": 7,
     "metadata": {},
     "output_type": "execute_result"
    }
   ],
   "source": [
    "len(items)"
   ]
  },
  {
   "cell_type": "code",
   "execution_count": 9,
   "metadata": {},
   "outputs": [
    {
     "name": "stdout",
     "output_type": "stream",
     "text": [
      "Product Details\n",
      "ID: 1\n",
      "Name: 5 Star\n",
      "Price: 5\n",
      "Quantity: 100\n",
      "-----------------------------\n",
      "ID: 2\n",
      "Name: Milky Bar\n",
      "Price: 5\n",
      "Quantity: 100\n",
      "-----------------------------\n",
      "ID: 3\n",
      "Name: Cake\n",
      "Price: 300\n",
      "Quantity: 5\n",
      "-----------------------------\n",
      "ID: 4\n",
      "Name: Candy\n",
      "Price: 1\n",
      "Quantity: 200\n",
      "-----------------------------\n"
     ]
    }
   ],
   "source": [
    "print(\"Product Details\")\n",
    "for item in items:\n",
    "    item = item.split(',')\n",
    "    print(f'ID: {item[0]}')\n",
    "    print(f'Name: {item[1]}')\n",
    "    print(f'Price: {item[2]}')\n",
    "    print(f'Quantity: {item[3]}')\n",
    "    print(\"-----------------------------\")"
   ]
  },
  {
   "cell_type": "markdown",
   "metadata": {},
   "source": [
    "Accepting user input"
   ]
  },
  {
   "cell_type": "code",
   "execution_count": 11,
   "metadata": {},
   "outputs": [
    {
     "name": "stdout",
     "output_type": "stream",
     "text": [
      "ID: 4\n",
      "Name: Candy\n",
      "Price: 1\n",
      "Quantity: 200\n"
     ]
    }
   ],
   "source": [
    "user_ip = input(\"Enter product ID: \")\n",
    "\n",
    "for item in items:\n",
    "    item = item.split(',')\n",
    "    if item[0] == user_ip:\n",
    "        print(f'ID: {item[0]}')\n",
    "        print(f'Name: {item[1]}')\n",
    "        print(f'Price: {item[2]}')\n",
    "        print(f'Quantity: {item[3]}')\n"
   ]
  },
  {
   "cell_type": "code",
   "execution_count": 12,
   "metadata": {},
   "outputs": [
    {
     "name": "stdout",
     "output_type": "stream",
     "text": [
      "ID: 1\n",
      "Name: 5 Star\n",
      "Price: 5\n",
      "Quantity: 50\n"
     ]
    }
   ],
   "source": [
    "user_ip = input(\"Enter product ID: \")\n",
    "user_qn = input(\"Enter quantity: \")\n",
    "for item in items:\n",
    "    item = item.split(',')\n",
    "    if item[0] == user_ip:\n",
    "        print(f'ID: {item[0]}')\n",
    "        print(f'Name: {item[1]}')\n",
    "        print(f'Price: {item[2]}')\n",
    "        print(f'Quantity: {user_qn}')\n"
   ]
  },
  {
   "cell_type": "code",
   "execution_count": 15,
   "metadata": {},
   "outputs": [
    {
     "name": "stdout",
     "output_type": "stream",
     "text": [
      "ID: 1\n",
      "Name: 5 Star\n",
      "Price: 5\n",
      "Quantity: 40\n",
      "Billing Amount: 200\n"
     ]
    }
   ],
   "source": [
    "user_ip = input(\"Enter product ID: \")\n",
    "user_qn = input(\"Enter quantity: \")\n",
    "for item in items:\n",
    "    item = item.split(',')\n",
    "    if item[0] == user_ip:\n",
    "        print(f'ID: {item[0]}')\n",
    "        print(f'Name: {item[1]}')\n",
    "        print(f'Price: {item[2]}')\n",
    "        print(f'Quantity: {user_qn}')\n",
    "        print(f'Billing Amount: {int(item[2])*int(user_qn)}')\n"
   ]
  },
  {
   "cell_type": "markdown",
   "metadata": {},
   "source": [
    "## Updating Inventory"
   ]
  },
  {
   "cell_type": "code",
   "execution_count": 25,
   "metadata": {},
   "outputs": [
    {
     "name": "stdout",
     "output_type": "stream",
     "text": [
      "Before order Inventory\n",
      "--------------------------------------\n",
      "['1,5 Star,5,100', '2,Milky Bar,5,100', '3,Cake,300,5', '4,Candy,1,200']\n",
      "--------------------------------------\n",
      "Billing Items:\n",
      "ID: 1\n",
      "Name: 5 Star\n",
      "Price: 5\n",
      "Quantity: 25\n",
      "Billing Amount: 125\n",
      "----------------------------------------\n",
      "After order inventory\n",
      "['1', '5 Star', '5', '75']\n",
      "['2', 'Milky Bar', '5', '100']\n",
      "['3', 'Cake', '300', '5']\n",
      "['4', 'Candy', '1', '200']\n"
     ]
    }
   ],
   "source": [
    "user_ip = input(\"Enter product ID: \")\n",
    "user_qn = input(\"Enter quantity: \")\n",
    "\n",
    "updated_items = []\n",
    "print(\"Before order Inventory\")\n",
    "print('--------------------------------------')\n",
    "print(items)\n",
    "print('--------------------------------------')\n",
    "print('Billing Items:')\n",
    "for item in items:\n",
    "    item = item.split(',')\n",
    "    if item[0] == user_ip:\n",
    "        print(f'ID: {item[0]}')\n",
    "        print(f'Name: {item[1]}')\n",
    "        print(f'Price: {item[2]}')\n",
    "        print(f'Quantity: {user_qn}')\n",
    "        print(f'Billing Amount: {int(item[2])*int(user_qn)}')\n",
    "        item[3] = str(int(item[3]) - int(user_qn))\n",
    "    updated_items.append(','.join(item))\n",
    "\n",
    "print('----------------------------------------')\n",
    "\n",
    "with open('inventory.txt','w') as fd:\n",
    "    for item in updated_items:\n",
    "        fd.write(item+'\\n')\n",
    "\n",
    "\n",
    "\n",
    "print('After order inventory')\n",
    "with open('inventory.txt' , 'r') as fd:\n",
    "    new_items = fd.readlines()\n",
    "    new_items = [line.strip().split(',') for line in new_items]\n",
    "\n",
    "for item in new_items:\n",
    "    print(item)\n"
   ]
  },
  {
   "cell_type": "code",
   "execution_count": null,
   "metadata": {},
   "outputs": [],
   "source": []
  }
 ],
 "metadata": {
  "kernelspec": {
   "display_name": "Python 3",
   "language": "python",
   "name": "python3"
  },
  "language_info": {
   "codemirror_mode": {
    "name": "ipython",
    "version": 3
   },
   "file_extension": ".py",
   "mimetype": "text/x-python",
   "name": "python",
   "nbconvert_exporter": "python",
   "pygments_lexer": "ipython3",
   "version": "3.11.8"
  }
 },
 "nbformat": 4,
 "nbformat_minor": 2
}
